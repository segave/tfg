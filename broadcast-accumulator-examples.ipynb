{
 "cells": [
  {
   "cell_type": "code",
   "execution_count": 1,
   "id": "f9b37b43",
   "metadata": {},
   "outputs": [],
   "source": [
    "import findspark\n",
    "findspark.init(\"C:\\\\Users\\\\Software\\\\spark-3.3.1-bin-hadoop3\\\\bin\\\\..\")"
   ]
  },
  {
   "cell_type": "code",
   "execution_count": 2,
   "id": "60b2e252",
   "metadata": {},
   "outputs": [],
   "source": [
    "from pyspark import SparkContext"
   ]
  },
  {
   "cell_type": "code",
   "execution_count": 3,
   "id": "5ac41996",
   "metadata": {},
   "outputs": [],
   "source": [
    "sc = SparkContext(\"local\",\"Broadcast and Accumulator apps\")"
   ]
  },
  {
   "cell_type": "code",
   "execution_count": 4,
   "id": "ce79f8c6",
   "metadata": {},
   "outputs": [],
   "source": [
    "palabras_nuevo = sc.broadcast([\"scala\",\"java\",\"hadoop\",\"spark\",\"akka\"])"
   ]
  },
  {
   "cell_type": "code",
   "execution_count": 5,
   "id": "437fb95b",
   "metadata": {},
   "outputs": [],
   "source": [
    "data = palabras_nuevo.value"
   ]
  },
  {
   "cell_type": "code",
   "execution_count": 6,
   "id": "b35c8343",
   "metadata": {},
   "outputs": [
    {
     "name": "stdout",
     "output_type": "stream",
     "text": [
      "Datos almacenados->['scala', 'java', 'hadoop', 'spark', 'akka']\n"
     ]
    }
   ],
   "source": [
    "print(\"Datos almacenados->%s\"% (data))"
   ]
  },
  {
   "cell_type": "code",
   "execution_count": 7,
   "id": "87afeb3f",
   "metadata": {},
   "outputs": [
    {
     "name": "stdout",
     "output_type": "stream",
     "text": [
      "Imprimiendo un elemento particular en RDD-> hadoop\n"
     ]
    }
   ],
   "source": [
    "elemento = palabras_nuevo.value[2]\n",
    "print(\"Imprimiendo un elemento particular en RDD-> %s\"% (elemento))"
   ]
  },
  {
   "cell_type": "code",
   "execution_count": 8,
   "id": "34c3837f",
   "metadata": {},
   "outputs": [],
   "source": [
    "#En el siguiente ejemplo se definen los estados USA enun variable Map \n",
    "#y se distribuye tal variable utilizando broadcast() y luego se\n",
    "#utilizan estas variables en una transformación map() de RDD\n",
    "estados= {\"NY\":\"New York\", \"CA\":\"California\", \"FL\":\"Florida\"}"
   ]
  },
  {
   "cell_type": "code",
   "execution_count": 9,
   "id": "8390735b",
   "metadata": {},
   "outputs": [],
   "source": [
    "broadcastEstados = sc.broadcast(estados)"
   ]
  },
  {
   "cell_type": "code",
   "execution_count": 10,
   "id": "05fa0322",
   "metadata": {},
   "outputs": [],
   "source": [
    "data = [(\"James\",\"Smith\",\"USA\",\"CA\"),\n",
    "    (\"Michael\",\"Rose\",\"USA\",\"NY\"),\n",
    "    (\"Robert\",\"Williams\",\"USA\",\"CA\"),\n",
    "    (\"Maria\",\"Jones\",\"USA\",\"FL\")\n",
    "  ]"
   ]
  },
  {
   "cell_type": "code",
   "execution_count": 11,
   "id": "2e4ad4c0",
   "metadata": {},
   "outputs": [],
   "source": [
    "rdd= sc.parallelize(data)"
   ]
  },
  {
   "cell_type": "code",
   "execution_count": 12,
   "id": "a7228cb7",
   "metadata": {},
   "outputs": [],
   "source": [
    "def conversor_estado(codigo):\n",
    "    return broadcastEstados.value[codigo]"
   ]
  },
  {
   "cell_type": "code",
   "execution_count": 121,
   "id": "18f2ad73",
   "metadata": {},
   "outputs": [
    {
     "name": "stdout",
     "output_type": "stream",
     "text": [
      "Los nombres de los estados es: {'NY': 'New York', 'CA': 'California', 'FL': 'Florida'}\n",
      "EL nombre del estado es: New York\n",
      "EL nombre del estado es: New York\n"
     ]
    }
   ],
   "source": [
    "print(\"Los nombres de los estados es: %s\" % broadcastEstados.value)\n",
    "print(\"EL nombre del estado es: %s\" % estados[\"NY\"])\n",
    "print(\"EL nombre del estado es: %s\" % broadcastEstados.value[\"NY\"])"
   ]
  },
  {
   "cell_type": "code",
   "execution_count": 13,
   "id": "3e5c1f85",
   "metadata": {},
   "outputs": [],
   "source": [
    "resultado = rdd.map(lambda x:(x[0],x[1],x[2],conversor_estado(x[3]))).collect()"
   ]
  },
  {
   "cell_type": "code",
   "execution_count": 14,
   "id": "7b90557e",
   "metadata": {},
   "outputs": [
    {
     "name": "stdout",
     "output_type": "stream",
     "text": [
      "[('James', 'Smith', 'USA', 'California'), ('Michael', 'Rose', 'USA', 'New York'), ('Robert', 'Williams', 'USA', 'California'), ('Maria', 'Jones', 'USA', 'Florida')]\n"
     ]
    }
   ],
   "source": [
    "print(resultado)"
   ]
  },
  {
   "cell_type": "code",
   "execution_count": 15,
   "id": "8b4e5ac5",
   "metadata": {},
   "outputs": [],
   "source": [
    "from pyspark.sql import SparkSession\n",
    "spark = SparkSession.builder.appName('SparkByExamples.com').getOrCreate()"
   ]
  },
  {
   "cell_type": "code",
   "execution_count": 33,
   "id": "e04fccfe",
   "metadata": {},
   "outputs": [
    {
     "name": "stdout",
     "output_type": "stream",
     "text": [
      "Column<'state'>\n",
      "root\n",
      " |-- firstname: string (nullable = true)\n",
      " |-- lastname: string (nullable = true)\n",
      " |-- country: string (nullable = true)\n",
      " |-- state: string (nullable = true)\n",
      "\n",
      "+---------+--------+-------+-----+\n",
      "|firstname|lastname|country|state|\n",
      "+---------+--------+-------+-----+\n",
      "|James    |Smith   |USA    |CA   |\n",
      "|Michael  |Rose    |USA    |NY   |\n",
      "|Robert   |Williams|USA    |CA   |\n",
      "|Maria    |Jones   |USA    |FL   |\n",
      "+---------+--------+-------+-----+\n",
      "\n",
      "{'NY': 'New York', 'CA': 'California', 'FL': 'Florida'}\n"
     ]
    }
   ],
   "source": [
    "states= {\"NY\":\"New York\", \"CA\":\"California\", \"FL\":\"Florida\"}\n",
    "broadcastStates = spark.sparkContext.broadcast(states)\n",
    "columns = [\"firstname\",\"lastname\",\"country\",\"state\"]\n",
    "df = spark.createDataFrame(data=data, schema = columns)\n",
    "#df1=df.where((df[\"state\"].isin(broadcastStates.value)))\n",
    "print (df[\"state\"])\n",
    "df.printSchema()\n",
    "df.show(truncate=False)\n",
    "print (broadcastStates.value)\n"
   ]
  },
  {
   "cell_type": "code",
   "execution_count": 106,
   "id": "0b518f5c",
   "metadata": {},
   "outputs": [],
   "source": [
    "#Una variable Acumulador tiene un atributo llamado 'value' que es \n",
    "#similar al que tiene una variable Broadcast.\n",
    "#Almacena los datos y se utiliza para devolver el valor del \n",
    "#acumulador, pero sólo es utilizable en el \"driver\"\n",
    "num = sc.accumulator(10)"
   ]
  },
  {
   "cell_type": "code",
   "execution_count": 107,
   "id": "55747b47",
   "metadata": {},
   "outputs": [],
   "source": [
    "def f(x):\n",
    "    global num\n",
    "    num+=x\n",
    "    #return num"
   ]
  },
  {
   "cell_type": "code",
   "execution_count": 108,
   "id": "955fa5c7",
   "metadata": {},
   "outputs": [],
   "source": [
    "rdd = sc.parallelize([20,30,40,50])"
   ]
  },
  {
   "cell_type": "code",
   "execution_count": 109,
   "id": "01503049",
   "metadata": {},
   "outputs": [
    {
     "name": "stdout",
     "output_type": "stream",
     "text": [
      "None\n",
      "None\n",
      "None\n",
      "None\n"
     ]
    }
   ],
   "source": [
    "rdd=rdd.map(lambda x: f(x))\n",
    "for elemento in rdd.collect():\n",
    "    print(elemento)"
   ]
  },
  {
   "cell_type": "code",
   "execution_count": 110,
   "id": "78375445",
   "metadata": {},
   "outputs": [
    {
     "name": "stdout",
     "output_type": "stream",
     "text": [
      "El valor acumulados es-> 150\n"
     ]
    }
   ],
   "source": [
    "print(\"El valor acumulados es-> %i\"%num.value)"
   ]
  },
  {
   "cell_type": "code",
   "execution_count": null,
   "id": "0ee2c280",
   "metadata": {},
   "outputs": [],
   "source": []
  }
 ],
 "metadata": {
  "kernelspec": {
   "display_name": "Python 3 (ipykernel)",
   "language": "python",
   "name": "python3"
  },
  "language_info": {
   "codemirror_mode": {
    "name": "ipython",
    "version": 3
   },
   "file_extension": ".py",
   "mimetype": "text/x-python",
   "name": "python",
   "nbconvert_exporter": "python",
   "pygments_lexer": "ipython3",
   "version": "3.9.13"
  }
 },
 "nbformat": 4,
 "nbformat_minor": 5
}

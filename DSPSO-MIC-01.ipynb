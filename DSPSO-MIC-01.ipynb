{
 "cells": [
  {
   "cell_type": "code",
   "execution_count": 1,
   "id": "facb8cc5",
   "metadata": {},
   "outputs": [],
   "source": [
    "import numpy as np\n",
    "import random as rn\n",
    "import findspark\n",
    "import sys\n",
    "findspark.init(\"C:\\\\Users\\\\Software\\\\spark-3.3.1-bin-hadoop3\\\\bin\\\\..\")\n",
    "#findspark.init(\"D:\\\\Users\\\\software\\\\spark-3.2.1-bin-hadoop3.2\\\\bin\\\\..\")"
   ]
  },
  {
   "cell_type": "code",
   "execution_count": 2,
   "id": "21013230",
   "metadata": {},
   "outputs": [],
   "source": [
    "from pyspark import SparkContext\n",
    "sc = SparkContext(\"local\",\"PSO Distribuido\")"
   ]
  },
  {
   "cell_type": "code",
   "execution_count": 3,
   "id": "886b41ed",
   "metadata": {},
   "outputs": [],
   "source": [
    "def MSE(y, pred):\n",
    "    n = len(y)\n",
    "    if n != len(pred):\n",
    "        print(\"error: datos y predicción de distintos tamaños\")\n",
    "        return -1\n",
    "\n",
    "    resultado = 0.0\n",
    "\n",
    "    for i in range(n):\n",
    "        resultado += (y[i] - pred[i])**2\n",
    "\n",
    "    resultado = resultado / n\n",
    "\n",
    "    return resultado"
   ]
  },
  {
   "cell_type": "code",
   "execution_count": 4,
   "id": "e1053814",
   "metadata": {},
   "outputs": [],
   "source": [
    "V_max= 10\n",
    "W= 1.0\n",
    "c_1 = 0.75\n",
    "c_2 = 0.25\n",
    "objetivo =[50,50,50]"
   ]
  },
  {
   "cell_type": "code",
   "execution_count": 5,
   "id": "aae8b850",
   "metadata": {},
   "outputs": [],
   "source": [
    "#Número dimensiones de los vectores\n",
    "n=3\n",
    "#Número de partículas\n",
    "m= 10\n",
    "#Número de iteraciones\n",
    "I = 1000000\n",
    "posiciones_=[]\n",
    "mejor_posiciones_locales=[]\n",
    "velocidades_=[]\n",
    "particulas = np.array([posiciones_,velocidades_,mejor_posiciones_locales])\n",
    "mejor_pos_global= np.array([0 for j in range(n)])\n",
    "best_local_fitness_= []\n",
    "best_local_fitness=np.array(best_local_fitness_)\n",
    "#maximum float\n",
    "max = sys.float_info.max\n",
    "best_global_fitness = max"
   ]
  },
  {
   "cell_type": "code",
   "execution_count": 6,
   "id": "100bc4aa",
   "metadata": {},
   "outputs": [],
   "source": [
    "def InitParticles(part,N,M,bgf,blf):\n",
    "    for j in range(M):\n",
    "        posicion=[rn.uniform(-100,100) for j in range(n)]\n",
    "        posiciones_.append(posicion)\n",
    "        posiciones= np.array(posiciones_)\n",
    "        mejor_posiciones_locales=posiciones.copy()\n",
    "        velocidad=[rn.uniform(-100,100) for j in range(n)]\n",
    "        velocidades_.append(velocidad)\n",
    "        velocidades= np.array(velocidades_)\n",
    "        fit = MSE(posiciones[j],objetivo)\n",
    "        best_local_fitness_.append(fit)\n",
    "        blf= np.array(best_local_fitness_)\n",
    "        #print(\"best local fitness\",blf)\n",
    "        if fit < bgf:\n",
    "            bgf = fit\n",
    "            mejor_pos_global = mejor_posiciones_locales[j][:]\n",
    "    part= np.array([posiciones,velocidades,mejor_posiciones_locales])\n",
    "    return blf,bgf,mejor_posiciones_locales,mejor_pos_global,part "
   ]
  },
  {
   "cell_type": "code",
   "execution_count": 7,
   "id": "72de37d6",
   "metadata": {},
   "outputs": [],
   "source": [
    "def fitnessEval(part,mpl,mpg,blf,bgf, ind):\n",
    "    filas=part[0:1,ind]\n",
    "    fit = MSE(filas[0],objetivo)\n",
    "    if fit< blf[ind]:\n",
    "        blf[ind] = fit\n",
    "        mpl[ind] = part[0:1,ind]\n",
    "        if fit < bgf:\n",
    "            bgf = fit\n",
    "            mpg = part[0:1,ind][0]\n",
    "    return part,mpl,mpg,blf,bgf"
   ]
  },
  {
   "cell_type": "code",
   "execution_count": 8,
   "id": "552ceaed",
   "metadata": {},
   "outputs": [],
   "source": [
    "def posEval(part,mpl,mpg,ind):\n",
    "    velocidades=part[1:2,ind][0]\n",
    "    for k in range(n):\n",
    "        velocidades[k] = W*velocidades[k] + c_1*r_1*(mpl[ind][k] - part[0:1,ind][0][k]) + c_2*r_2*(mpg[k] - part[0:1,ind][0][k])\n",
    "        if velocidades[k] > V_max:\n",
    "            velocidades[k] = V_max\n",
    "        elif velocidades[k] < -V_max:\n",
    "            velocidades[k] = -V_max  \n",
    "        part[0:1,ind][0][k] = part[0:1,ind][0][k] + velocidades[k]\n",
    "    return part,velocidades"
   ]
  },
  {
   "cell_type": "code",
   "execution_count": 9,
   "id": "ac1afaf8",
   "metadata": {},
   "outputs": [
    {
     "name": "stdout",
     "output_type": "stream",
     "text": [
      "Posiciones iniciales-> [[  3.32835954 -50.20573886  -0.89947041]\n",
      " [  4.27181578 -49.49996793  13.00258603]\n",
      " [-73.86877376 -72.98434628 -58.62439172]\n",
      " [ 10.10650633  24.56528532  66.83520485]\n",
      " [-39.61743308  64.96728701  55.22704556]\n",
      " [ 34.68460314   4.6717448  -53.84975365]\n",
      " [-46.13236608 -61.06772394  36.51539876]\n",
      " [ 44.31891122  70.3219145   42.09194855]\n",
      " [-55.62605367  91.62041125 -43.78824696]\n",
      " [-37.18993839  73.31591742  59.96395838]]\n"
     ]
    }
   ],
   "source": [
    "best_local_fitness,best_global_fitness,mejor_posiciones_locales,mejor_pos_global,particulas = InitParticles(particulas,n,m,best_global_fitness,best_local_fitness)\n",
    "print(\"Posiciones iniciales->\",particulas[0:1][0])"
   ]
  },
  {
   "cell_type": "code",
   "execution_count": null,
   "id": "2a2dda4e",
   "metadata": {},
   "outputs": [],
   "source": [
    "for i in range (I):\n",
    "    for ind in range(m):\n",
    "        particulas,mejor_posiciones_locales,mejor_pos_global,best_local_fitness,best_global_fitness=fitnessEval(particulas,mejor_posiciones_locales,mejor_pos_global,best_local_fitness,best_global_fitness,ind)\n",
    "    r_1 = rn.random()\n",
    "    r_2 = rn.random()\n",
    "    for ind in range(m):\n",
    "        particulas,velocidades = posEval(particulas,mejor_posiciones_locales,mejor_pos_global,ind)\n",
    "print(\"Mejor posición global->\",mejor_pos_global)\n",
    "print(\"Posiciones finales->\",particulas[0:1][0])"
   ]
  },
  {
   "cell_type": "code",
   "execution_count": null,
   "id": "2aec0507",
   "metadata": {
    "scrolled": false
   },
   "outputs": [],
   "source": [
    "#rdd_master= sc.parallelize(particulas)"
   ]
  },
  {
   "cell_type": "code",
   "execution_count": null,
   "id": "70cb79c2",
   "metadata": {},
   "outputs": [],
   "source": []
  }
 ],
 "metadata": {
  "kernelspec": {
   "display_name": "Python 3 (ipykernel)",
   "language": "python",
   "name": "python3"
  },
  "language_info": {
   "codemirror_mode": {
    "name": "ipython",
    "version": 3
   },
   "file_extension": ".py",
   "mimetype": "text/x-python",
   "name": "python",
   "nbconvert_exporter": "python",
   "pygments_lexer": "ipython3",
   "version": "3.9.13"
  }
 },
 "nbformat": 4,
 "nbformat_minor": 5
}
